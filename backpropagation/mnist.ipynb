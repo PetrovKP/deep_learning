{
 "cells": [
  {
   "cell_type": "code",
   "execution_count": 29,
   "metadata": {
    "collapsed": true
   },
   "outputs": [],
   "source": [
    "import warnings\n",
    "warnings.filterwarnings(\"ignore\")\n",
    "import matplotlib.pyplot as plt\n",
    "%matplotlib inline"
   ]
  },
  {
   "cell_type": "code",
   "execution_count": 2,
   "metadata": {
    "collapsed": true
   },
   "outputs": [],
   "source": [
    "import pandas as pd\n",
    "import numpy as np\n",
    "from sklearn.base import BaseEstimator, ClassifierMixin\n",
    "from sklearn.preprocessing import LabelBinarizer\n",
    "import pandas as pd\n",
    "from scipy.special import xlogy"
   ]
  },
  {
   "cell_type": "markdown",
   "metadata": {},
   "source": [
    "## Forward-Propagation\n",
    "\n",
    "$$\n",
    "X \\rightarrow Z=W_1X \\rightarrow U = W_2Z \\rightarrow S=F_{softmax}(U) \\rightarrow L(S, y) = -\\log S_y,\n",
    "$$\n",
    "\n",
    "where $S_y=\\frac{\\exp(U_y)}{\\sum_{j=0}^{K-1}\\exp(U_j)}$ is the y-th element of the $S$ and $U_y$ is the y-th element of the $U$."
   ]
  },
  {
   "cell_type": "markdown",
   "metadata": {},
   "source": [
    "## Backward-Propagation\n",
    "\n",
    "$$\n",
    "\\frac{\\partial L}{\\partial U_t} =  \n",
    "\\begin{cases}\n",
    "S_t(U), & t\\neq y \\\\\n",
    "1- S_t(U). & t = y\n",
    "\\end{cases}\n",
    "\\Longrightarrow\n",
    "\\frac{\\partial L}{\\partial U} = e_y - S(U), \n",
    "$$\n",
    "\n",
    "where $e_y$ is the unit vector, which y-th coordinate equals to 1 and 0 elsewhere. \n",
    "\n",
    "\\begin{align}\n",
    "& \\frac{\\partial L}{\\partial W_2} = \\frac{\\partial L}{\\partial U}\\frac{\\partial U}{\\partial W_1} = (e_y - S(U))Z^T \\\\\n",
    "& \\frac{\\partial L}{\\partial W_1} = \\frac{\\partial L}{\\partial U}\\frac{\\partial U}{\\partial Z}\\frac{\\partial Z}{\\partial W_1} = \\big(\\big(e_y - S(U)\\big) \\cdot W_2\\big)X^T\n",
    "\\end{align}"
   ]
  },
  {
   "cell_type": "code",
   "execution_count": 19,
   "metadata": {
    "collapsed": true
   },
   "outputs": [],
   "source": [
    "class DNNClassifier(BaseEstimator, ClassifierMixin):\n",
    "    def __init__(self, hidden_layer_sizes=(100), solver='adagrad',\n",
    "                 batch_size=1, learning_rate=0.001, momentum=0.9, eps=1e-8,\n",
    "                 max_iter=200, random_state=32, shuffle=True, verbose=False):\n",
    "        self.batch_size = batch_size\n",
    "        self.max_iter = max_iter\n",
    "        self.hidden_layer_sizes = hidden_layer_sizes\n",
    "        self.momentum = momentum\n",
    "        self.eps = eps\n",
    "        self.learning_rate = learning_rate\n",
    "        self.random_state = random_state\n",
    "        self.shuffle = shuffle\n",
    "        self.verbose = verbose\n",
    "\n",
    "    def __stable_softmax(self, x):\n",
    "        x = x - x.max(axis=1, keepdims=True)\n",
    "        x = np.exp(x)\n",
    "        return x / x.sum(axis=1, keepdims=True)\n",
    "\n",
    "    def __crossentropy_loss(self, y_true, y_prob):\n",
    "        return - xlogy(y_true, y_prob).sum()\n",
    "\n",
    "    def __forward_layer(self, x, w, activation_function):\n",
    "        out = np.dot(x, w)\n",
    "        if activation_function is not None:\n",
    "            out = activation_function(out)\n",
    "        return out\n",
    "\n",
    "    def __forward_propagate(self, x):\n",
    "        weights = self.weights\n",
    "        out_activations = [x]\n",
    "        for weight, activataion in zip(weights, self.functions):\n",
    "            out = self.__forward_layer(out_activations[-1], weight, activataion)\n",
    "            out_activations.append(out)\n",
    "        return out_activations\n",
    "\n",
    "    def __back_propagation(self, activations, y):\n",
    "        weights = self.weights\n",
    "        coef_grads = [np.empty_like(a_layer) for a_layer in weights]\n",
    "\n",
    "        deltas = activations[-1] - y\n",
    "        coef_grads[-1] = np.dot(activations[-2].T, deltas)\n",
    "\n",
    "        for i in range(len(weights)-2, -1, -1):\n",
    "            deltas =  np.dot(deltas, weights[i + 1].T)\n",
    "            coef_grads[i] = np.dot(activations[i].T, deltas)\n",
    "\n",
    "        return coef_grads\n",
    "\n",
    "    def __init_layer(self, input_size, output_size):\n",
    "        a = 2.0/(input_size + output_size)\n",
    "        w = np.random.uniform(-a, a, (input_size, output_size))\n",
    "        return w\n",
    "\n",
    "    def fit(self, X, y):\n",
    "        np.random.seed(self.random_state)\n",
    "\n",
    "        self._label_binarizer = LabelBinarizer()\n",
    "        y_train = y\n",
    "        X_train = X\n",
    "        y = self._label_binarizer.fit_transform(y)\n",
    "        self._num_classes = len(self._label_binarizer.classes_)\n",
    "\n",
    "        n, p = X.shape\n",
    "        s = self.hidden_layer_sizes[0]\n",
    "\n",
    "        self.weights = [\n",
    "            self.__init_layer(p, s),\n",
    "            self.__init_layer(s, self._num_classes)\n",
    "        ]\n",
    "\n",
    "        self.functions = [\n",
    "            None,\n",
    "            self.__stable_softmax,\n",
    "        ]\n",
    "\n",
    "        accum_grad = [np.zeros_like(param) for param in self.weights]\n",
    "\n",
    "        for j in range(self.max_iter):\n",
    "            accumulated_loss = 0.0\n",
    "\n",
    "            if self.shuffle:\n",
    "                indices = np.arange(n)\n",
    "                np.random.shuffle(indices)\n",
    "                X = X.take(indices, axis=0)\n",
    "                y = y.take(indices, axis=0)\n",
    "            \n",
    "            for i in range(0, n, self.batch_size):\n",
    "                X_batch = X[i : i + self.batch_size]\n",
    "                y_batch = y[i : i + self.batch_size]\n",
    "\n",
    "                activations = self.__forward_propagate(X_batch)\n",
    "\n",
    "                y_prob = activations[-1]\n",
    "\n",
    "                accumulated_loss += self.__crossentropy_loss(y_batch, y_prob)\n",
    "                coef_grads = self.__back_propagation(activations, y_batch)\n",
    "\n",
    "                coef_grads = [grad / self.batch_size for grad in coef_grads]\n",
    "                accum_grad = [accum + grad**2 for accum, grad in zip(accum_grad, coef_grads)]\n",
    "                inv_accum_grad = [self.learning_rate / np.sqrt(self.eps + accum) for accum in accum_grad]\n",
    "                self.weights = [weight - inv_accum * grad for weight, inv_accum, grad in zip(self.weights, inv_accum_grad, coef_grads)]\n",
    "\n",
    "            if self.verbose:\n",
    "                loss = accumulated_loss / X.shape[0]\n",
    "                y_pred = self.predict(X_train)\n",
    "                accuracy = (y_pred == y_train).mean()\n",
    "                print(\"Epoch {}/{};\\t Train accuracy: {:.3f} \\t Loss : {:.3f}\".format(j + 1, self.max_iter, accuracy, loss))\n",
    "\n",
    "        return self\n",
    "\n",
    "    def predict(self, X):\n",
    "        activations = self.__forward_propagate(X)\n",
    "        y_pred = activations[-1]\n",
    "        return self._label_binarizer.inverse_transform(y_pred)"
   ]
  },
  {
   "cell_type": "markdown",
   "metadata": {},
   "source": [
    "## Read datasets"
   ]
  },
  {
   "cell_type": "code",
   "execution_count": 9,
   "metadata": {},
   "outputs": [
    {
     "name": "stdout",
     "output_type": "stream",
     "text": [
      "train size:  (60000, 784) (60000,)\n",
      "test size:  (10000, 784) (10000,)\n"
     ]
    }
   ],
   "source": [
    "from sklearn.datasets import fetch_mldata\n",
    "\n",
    "data_train = pd.read_csv(\"../dataset/mldata/mnist_train.csv\", header=None)\n",
    "data_test = pd.read_csv(\"../dataset/mldata/mnist_test.csv\", header=None)\n",
    "\n",
    "x_train = np.ascontiguousarray(data_train[data_train.columns[:-1]].values, dtype=np.float32)\n",
    "y_train = np.ascontiguousarray(data_train[data_train.columns[-1]].values, dtype=np.float32)\n",
    "x_test = np.ascontiguousarray(data_test[data_test.columns[:-1]].values, dtype=np.float32)\n",
    "y_test = np.ascontiguousarray(data_test[data_test.columns[-1]].values, dtype=np.float32)\n",
    "\n",
    "print('train size: ', x_train.shape, y_train.shape)\n",
    "print('test size: ', x_test.shape, y_test.shape)"
   ]
  },
  {
   "cell_type": "markdown",
   "metadata": {},
   "source": [
    "## Normalize datasets"
   ]
  },
  {
   "cell_type": "code",
   "execution_count": 10,
   "metadata": {
    "collapsed": true
   },
   "outputs": [],
   "source": [
    "x_train /= 255\n",
    "x_test /= 255"
   ]
  },
  {
   "cell_type": "markdown",
   "metadata": {},
   "source": [
    "## Grid search parameters for Neural Network"
   ]
  },
  {
   "cell_type": "code",
   "execution_count": 11,
   "metadata": {
    "collapsed": true
   },
   "outputs": [],
   "source": [
    "from sklearn.model_selection import GridSearchCV"
   ]
  },
  {
   "cell_type": "code",
   "execution_count": 48,
   "metadata": {},
   "outputs": [
    {
     "name": "stdout",
     "output_type": "stream",
     "text": [
      "Лучший подбор параметра для DNNClassifier: {'hidden_layer_sizes': (16,)}\n",
      "Лучший scope для DNNClassifier: 0.922\n"
     ]
    }
   ],
   "source": [
    "parameters = {\n",
    "    'hidden_layer_sizes': [(16,), (32,), (48,), (64,), (76,), (92,)],\n",
    "}\n",
    "\n",
    "estimator = DNNClassifier(solver='adagrad',\n",
    "     batch_size=256, learning_rate=0.05, max_iter=50,\n",
    "     random_state=777, verbose=False)\n",
    "\n",
    "clf = GridSearchCV(estimator, parameters, cv=5, scoring='accuracy')\n",
    "clf.fit(x_train, y_train)\n",
    "print(\"Лучший подбор параметра для DNNClassifier: {}\".format(clf.best_params_))\n",
    "print(\"Лучший scope для DNNClassifier: {}\".format(clf.best_score_))"
   ]
  },
  {
   "cell_type": "code",
   "execution_count": 49,
   "metadata": {},
   "outputs": [
    {
     "data": {
      "text/plain": [
       "<matplotlib.axes._subplots.AxesSubplot at 0x7f98e2abc6d8>"
      ]
     },
     "execution_count": 49,
     "metadata": {},
     "output_type": "execute_result"
    },
    {
     "data": {
      "image/png": "[encoded data removed]",
      "text/plain": [
       "<Figure size 432x288 with 1 Axes>"
      ]
     },
     "metadata": {},
     "output_type": "display_data"
    }
   ],
   "source": [
    "pd.DataFrame(clf.cv_results_).plot(x='param_hidden_layer_sizes', y=[ 'mean_test_score', 'mean_train_score'])"
   ]
  },
  {
   "cell_type": "code",
   "execution_count": 44,
   "metadata": {},
   "outputs": [
    {
     "data": {
      "text/plain": [
       "DNNClassifier(batch_size=256, eps=1e-08, hidden_layer_sizes=(16,),\n",
       "       learning_rate=0.05, max_iter=30, momentum=0.9, random_state=777,\n",
       "       shuffle=True, solver=None, verbose=True)"
      ]
     },
     "execution_count": 44,
     "metadata": {},
     "output_type": "execute_result"
    }
   ],
   "source": [
    "best_estimator = clf.best_estimator_\n",
    "up_params = {'verbose': True, 'max_iter': 30}\n",
    "best_estimator.set_params(**up_params)\n",
    "best_estimator"
   ]
  },
  {
   "cell_type": "code",
   "execution_count": 45,
   "metadata": {},
   "outputs": [
    {
     "name": "stdout",
     "output_type": "stream",
     "text": [
      "Epoch 1/30;\t Train accuracy: 0.917 \t Loss : 0.405\n",
      "Epoch 2/30;\t Train accuracy: 0.922 \t Loss : 0.293\n",
      "Epoch 3/30;\t Train accuracy: 0.924 \t Loss : 0.279\n",
      "Epoch 4/30;\t Train accuracy: 0.927 \t Loss : 0.272\n",
      "Epoch 5/30;\t Train accuracy: 0.928 \t Loss : 0.268\n",
      "Epoch 6/30;\t Train accuracy: 0.930 \t Loss : 0.264\n",
      "Epoch 7/30;\t Train accuracy: 0.929 \t Loss : 0.262\n",
      "Epoch 8/30;\t Train accuracy: 0.930 \t Loss : 0.260\n",
      "Epoch 9/30;\t Train accuracy: 0.931 \t Loss : 0.258\n",
      "Epoch 10/30;\t Train accuracy: 0.929 \t Loss : 0.257\n",
      "Epoch 11/30;\t Train accuracy: 0.932 \t Loss : 0.255\n",
      "Epoch 12/30;\t Train accuracy: 0.932 \t Loss : 0.254\n",
      "Epoch 13/30;\t Train accuracy: 0.932 \t Loss : 0.253\n",
      "Epoch 14/30;\t Train accuracy: 0.933 \t Loss : 0.252\n",
      "Epoch 15/30;\t Train accuracy: 0.932 \t Loss : 0.251\n",
      "Epoch 16/30;\t Train accuracy: 0.933 \t Loss : 0.250\n",
      "Epoch 17/30;\t Train accuracy: 0.933 \t Loss : 0.249\n",
      "Epoch 18/30;\t Train accuracy: 0.934 \t Loss : 0.249\n",
      "Epoch 19/30;\t Train accuracy: 0.933 \t Loss : 0.248\n",
      "Epoch 20/30;\t Train accuracy: 0.934 \t Loss : 0.247\n",
      "Epoch 21/30;\t Train accuracy: 0.934 \t Loss : 0.247\n",
      "Epoch 22/30;\t Train accuracy: 0.934 \t Loss : 0.246\n",
      "Epoch 23/30;\t Train accuracy: 0.934 \t Loss : 0.246\n",
      "Epoch 24/30;\t Train accuracy: 0.933 \t Loss : 0.245\n",
      "Epoch 25/30;\t Train accuracy: 0.934 \t Loss : 0.245\n",
      "Epoch 26/30;\t Train accuracy: 0.934 \t Loss : 0.244\n",
      "Epoch 27/30;\t Train accuracy: 0.935 \t Loss : 0.244\n",
      "Epoch 28/30;\t Train accuracy: 0.934 \t Loss : 0.244\n",
      "Epoch 29/30;\t Train accuracy: 0.935 \t Loss : 0.243\n",
      "Epoch 30/30;\t Train accuracy: 0.935 \t Loss : 0.243\n",
      "CPU times: user 1min 53s, sys: 3min 46s, total: 5min 39s\n",
      "Wall time: 15.4 s\n"
     ]
    },
    {
     "data": {
      "text/plain": [
       "DNNClassifier(batch_size=256, eps=1e-08, hidden_layer_sizes=(16,),\n",
       "       learning_rate=0.05, max_iter=30, momentum=0.9, random_state=777,\n",
       "       shuffle=True, solver=None, verbose=True)"
      ]
     },
     "execution_count": 45,
     "metadata": {},
     "output_type": "execute_result"
    }
   ],
   "source": [
    "%%time\n",
    "best_estimator.fit(x_train, y_train)"
   ]
  },
  {
   "cell_type": "markdown",
   "metadata": {},
   "source": [
    "## Accuracy for testing datasets"
   ]
  },
  {
   "cell_type": "code",
   "execution_count": 46,
   "metadata": {},
   "outputs": [
    {
     "name": "stdout",
     "output_type": "stream",
     "text": [
      "0.9259\n"
     ]
    }
   ],
   "source": [
    "y_pred = best_estimator.predict(x_test)\n",
    "print((y_pred == y_test).mean())"
   ]
  },
  {
   "cell_type": "markdown",
   "metadata": {},
   "source": [
    "## Versus the sklearn MLP"
   ]
  },
  {
   "cell_type": "code",
   "execution_count": 55,
   "metadata": {},
   "outputs": [
    {
     "name": "stdout",
     "output_type": "stream",
     "text": [
      "Iteration 1, loss = 0.73436694\n",
      "Iteration 2, loss = 0.35062043\n",
      "Iteration 3, loss = 0.30739383\n",
      "Iteration 4, loss = 0.28902413\n",
      "Iteration 5, loss = 0.27904313\n",
      "Iteration 6, loss = 0.27252593\n",
      "Iteration 7, loss = 0.26722828\n",
      "Iteration 8, loss = 0.26373192\n",
      "Iteration 9, loss = 0.26013310\n",
      "Iteration 10, loss = 0.25787084\n",
      "Iteration 11, loss = 0.25518767\n",
      "Iteration 12, loss = 0.25345777\n",
      "Iteration 13, loss = 0.25129781\n",
      "Iteration 14, loss = 0.25017786\n",
      "Iteration 15, loss = 0.24874089\n",
      "Iteration 16, loss = 0.24708613\n",
      "Iteration 17, loss = 0.24613000\n",
      "Iteration 18, loss = 0.24500568\n",
      "Iteration 19, loss = 0.24473631\n",
      "Iteration 20, loss = 0.24350242\n",
      "Iteration 21, loss = 0.24221757\n",
      "Iteration 22, loss = 0.24145957\n",
      "Iteration 23, loss = 0.24186943\n",
      "Iteration 24, loss = 0.24089721\n",
      "Iteration 25, loss = 0.23973297\n",
      "Iteration 26, loss = 0.23929363\n",
      "Iteration 27, loss = 0.23851964\n",
      "Iteration 28, loss = 0.23824422\n",
      "Iteration 29, loss = 0.23767271\n",
      "Iteration 30, loss = 0.23757961\n"
     ]
    },
    {
     "data": {
      "text/plain": [
       "MLPClassifier(activation='identity', alpha=0, batch_size=256, beta_1=0.9,\n",
       "       beta_2=0.999, early_stopping=False, epsilon=1e-08,\n",
       "       hidden_layer_sizes=(16,), learning_rate='constant',\n",
       "       learning_rate_init=0.001, max_iter=30, momentum=0.9,\n",
       "       nesterovs_momentum=True, power_t=0.5, random_state=777,\n",
       "       shuffle=True, solver='adam', tol=0, validation_fraction=0.1,\n",
       "       verbose=10, warm_start=False)"
      ]
     },
     "execution_count": 55,
     "metadata": {},
     "output_type": "execute_result"
    }
   ],
   "source": [
    "from sklearn.neural_network import MLPClassifier\n",
    "clf = MLPClassifier(hidden_layer_sizes=(16,), max_iter=30, alpha=0, activation='identity',\n",
    "                     batch_size=256, solver='adam', verbose=10, random_state=777,\n",
    "                     tol=0, shuffle=True)\n",
    "clf.fit(x_train, y_train)"
   ]
  },
  {
   "cell_type": "code",
   "execution_count": 56,
   "metadata": {},
   "outputs": [
    {
     "name": "stdout",
     "output_type": "stream",
     "text": [
      "0.9267\n"
     ]
    }
   ],
   "source": [
    "y_pred = clf.predict(x_test)\n",
    "print((y_pred == y_test).mean())"
   ]
  }
 ],
 "metadata": {
  "kernelspec": {
   "display_name": "Python 3",
   "language": "python",
   "name": "python3"
  },
  "language_info": {
   "codemirror_mode": {
    "name": "ipython",
    "version": 3
   },
   "file_extension": ".py",
   "mimetype": "text/x-python",
   "name": "python",
   "nbconvert_exporter": "python",
   "pygments_lexer": "ipython3",
   "version": "3.6.9"
  }
 },
 "nbformat": 4,
 "nbformat_minor": 2
}

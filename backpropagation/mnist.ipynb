{
 "cells": [
  {
   "cell_type": "markdown",
   "metadata": {},
   "source": [
    "## Лабораторная работа №1. Backward-Propagation. "
   ]
  },
  {
   "cell_type": "markdown",
   "metadata": {},
   "source": [
    "Выполнил: **Кирилл Петров. ВМиСТ**"
   ]
  },
  {
   "cell_type": "code",
   "execution_count": 1,
   "metadata": {},
   "outputs": [],
   "source": [
    "import warnings\n",
    "warnings.filterwarnings(\"ignore\")\n",
    "import matplotlib.pyplot as plt\n",
    "%matplotlib inline"
   ]
  },
  {
   "cell_type": "code",
   "execution_count": 2,
   "metadata": {},
   "outputs": [],
   "source": [
    "import pandas as pd\n",
    "import numpy as np\n",
    "from sklearn.base import BaseEstimator, ClassifierMixin\n",
    "from sklearn.preprocessing import LabelBinarizer\n",
    "import pandas as pd\n",
    "from scipy.special import xlogy"
   ]
  },
  {
   "cell_type": "markdown",
   "metadata": {},
   "source": [
    "## Forward-Propagation\n",
    "\n",
    "Построим сеть следующего вида:\n",
    "\n",
    "$$\n",
    "X \\rightarrow Z=W_1X \\rightarrow U = W_2Z \\rightarrow S=F_{softmax}(U) \\rightarrow L(S, y) = -\\log S_y,\n",
    "$$\n",
    "\n",
    "где $S_y=\\frac{\\exp(U_y)}{\\sum_{j=0}^{K-1}\\exp(U_j)}$; y-ый элемент $S$ и $U_y$ y-ый элемент $U$."
   ]
  },
  {
   "cell_type": "markdown",
   "metadata": {},
   "source": [
    "## Backward-Propagation\n",
    "\n",
    "Посчитаем градиенты $\\frac{\\partial L}{\\partial W_2}$ и $\\frac{\\partial L}{\\partial W_1}$\n",
    "\n",
    "$$\n",
    "\\frac{\\partial L}{\\partial U_t} =  \n",
    "\\begin{cases}\n",
    "S_t(U), & t\\neq y \\\\\n",
    "1- S_t(U). & t = y\n",
    "\\end{cases}\n",
    "\\Longrightarrow\n",
    "\\frac{\\partial L}{\\partial U} = e_y - S(U), \n",
    "$$\n",
    "\n",
    "где $e_y$ единичный вектор, где y-ый равный 1, если y, в противном случае 0. \n",
    "\n",
    "\\begin{align}\n",
    "& \\frac{\\partial L}{\\partial W_2} = \\frac{\\partial L}{\\partial U}\\frac{\\partial U}{\\partial W_1} = (e_y - S(U))Z^T \\\\\n",
    "& \\frac{\\partial L}{\\partial W_1} = \\frac{\\partial L}{\\partial U}\\frac{\\partial U}{\\partial Z}\\frac{\\partial Z}{\\partial W_1} = \\big(\\big(e_y - S(U)\\big) \\cdot W_2\\big)X^T\n",
    "\\end{align}"
   ]
  },
  {
   "cell_type": "markdown",
   "metadata": {},
   "source": [
    "Соорудим и реализуем небольшой класс, который реализует описанные выше действия с градиентным методом **Adagrad**:\n",
    "\n",
    "Обозначим градиент по параметру $W_i$ на итерации $t$ как $g_{t,i} = \\nabla_{W}L(W_i)$. \n",
    "\n",
    "В случае sgd обновление параметра $W_i$ будет выглядеть следующим образом:\n",
    "\n",
    "$$ W_{t+1, i} = W_{t, i} - \\eta \\cdot g_{t,i}$$\n",
    "\n",
    "А в случае Adagrad общий шаг $\\eta$ нормируется на посчитанные ранее градиенты для данного параметра:\n",
    "\n",
    "$$ W_{t+1, i} = W_{t, i} - \\dfrac{\\eta}{\\sqrt{G_{t,ii} + \\varepsilon}} \\cdot g_{t,i}$$\n",
    "\n",
    "где $G_t$ — диагональная матрица, где каждый диагональный элемент $i,i$ — сумма квадратов градиентов для $W_{i}$ до $t$-ой итерации. $\\varepsilon$ — гиперпараметр, позволяющий избежать деления на 0 (обычно выбирается около *1e-8*).\n",
    "\n",
    "Так как матрица $G_t$ диагональна, в векторном виде это будет выглядеть следующим образом (здесь $\\odot$ — матричное умножение):\n",
    "\n",
    "$$ W_{t+1} = W_{t} - \\dfrac{\\eta}{\\sqrt{G_t + \\varepsilon}} \\odot g_t $$"
   ]
  },
  {
   "cell_type": "markdown",
   "metadata": {},
   "source": [
    "Инициализацию весов проводил по правилу xavier (брал из этой [статьи](https://towardsdatascience.com/weight-initialization-in-neural-networks-a-journey-from-the-basics-to-kaiming-954fb9b47c79)) : $ Uniform(-a; a) $\n",
    "Где\n",
    "$$\n",
    "a = \\frac{\\sqrt 6}{\\sqrt{n_i + n_{i+1}}}\n",
    "$$\n"
   ]
  },
  {
   "cell_type": "code",
   "execution_count": 12,
   "metadata": {},
   "outputs": [],
   "source": [
    "class DNNClassifier(BaseEstimator, ClassifierMixin):\n",
    "    def __init__(self, hidden_layer_sizes=(100), solver='adagrad',\n",
    "                 batch_size=1, learning_rate=0.001, momentum=0.9, eps=1e-8,\n",
    "                 max_iter=200, random_state=32, shuffle=True, verbose=False):\n",
    "        self.batch_size = batch_size\n",
    "        self.max_iter = max_iter\n",
    "        self.hidden_layer_sizes = hidden_layer_sizes\n",
    "        self.momentum = momentum\n",
    "        self.eps = eps\n",
    "        self.learning_rate = learning_rate\n",
    "        self.random_state = random_state\n",
    "        self.shuffle = shuffle\n",
    "        self.verbose = verbose\n",
    "\n",
    "    def __stable_softmax(self, x):\n",
    "        x = x - x.max(axis=1, keepdims=True)\n",
    "        x = np.exp(x)\n",
    "        return x / x.sum(axis=1, keepdims=True)\n",
    "\n",
    "    def __crossentropy_loss(self, y_true, y_prob):\n",
    "        return - xlogy(y_true, y_prob).sum()\n",
    "\n",
    "    def __forward_layer(self, x, w, activation_function):\n",
    "        out = np.dot(x, w)\n",
    "        if activation_function is not None:\n",
    "            out = activation_function(out)\n",
    "        return out\n",
    "\n",
    "    def __forward_propagate(self, x):\n",
    "        weights = self.weights\n",
    "        out_activations = [x]\n",
    "        for weight, activataion in zip(weights, self.functions):\n",
    "            out = self.__forward_layer(out_activations[-1], weight, activataion)\n",
    "            out_activations.append(out)\n",
    "        return out_activations\n",
    "\n",
    "    def __back_propagation(self, activations, y):\n",
    "        weights = self.weights\n",
    "        coef_grads = [np.empty_like(a_layer) for a_layer in weights]\n",
    "\n",
    "        deltas = activations[-1] - y\n",
    "        coef_grads[-1] = np.dot(activations[-2].T, deltas)\n",
    "\n",
    "        for i in range(len(weights)-2, -1, -1):\n",
    "            deltas =  np.dot(deltas, weights[i + 1].T)\n",
    "            coef_grads[i] = np.dot(activations[i].T, deltas)\n",
    "\n",
    "        return coef_grads\n",
    "\n",
    "    def __init_layer(self, input_size, output_size):\n",
    "        a = np.sqrt(6.0 / (input_size + output_size))\n",
    "        w = np.random.uniform(-a, a, (input_size, output_size))\n",
    "        return w\n",
    "\n",
    "    def fit(self, X, y):\n",
    "        np.random.seed(self.random_state)\n",
    "\n",
    "        self._label_binarizer = LabelBinarizer()\n",
    "        y_train = y\n",
    "        X_train = X\n",
    "        y = self._label_binarizer.fit_transform(y)\n",
    "        self._num_classes = len(self._label_binarizer.classes_)\n",
    "\n",
    "        n, p = X.shape\n",
    "        s = self.hidden_layer_sizes[0]\n",
    "\n",
    "        self.weights = [\n",
    "            self.__init_layer(p, s),\n",
    "            self.__init_layer(s, self._num_classes)\n",
    "        ]\n",
    "\n",
    "        self.functions = [\n",
    "            None,\n",
    "            self.__stable_softmax,\n",
    "        ]\n",
    "\n",
    "        accum_grad = [np.zeros_like(param) for param in self.weights]\n",
    "\n",
    "        for j in range(self.max_iter):\n",
    "            accumulated_loss = 0.0\n",
    "\n",
    "            if self.shuffle:\n",
    "                indices = np.arange(n)\n",
    "                np.random.shuffle(indices)\n",
    "                X = X.take(indices, axis=0)\n",
    "                y = y.take(indices, axis=0)\n",
    "            \n",
    "            for i in range(0, n, self.batch_size):\n",
    "                X_batch = X[i : i + self.batch_size]\n",
    "                y_batch = y[i : i + self.batch_size]\n",
    "\n",
    "                activations = self.__forward_propagate(X_batch)\n",
    "\n",
    "                y_prob = activations[-1]\n",
    "\n",
    "                accumulated_loss += self.__crossentropy_loss(y_batch, y_prob)\n",
    "                coef_grads = self.__back_propagation(activations, y_batch)\n",
    "\n",
    "                coef_grads = [grad / self.batch_size for grad in coef_grads]\n",
    "                accum_grad = [accum + grad**2 for accum, grad in zip(accum_grad, coef_grads)]\n",
    "                inv_accum_grad = [self.learning_rate / np.sqrt(self.eps + accum) for accum in accum_grad]\n",
    "                self.weights = [weight - inv_accum * grad for weight, inv_accum, grad in zip(self.weights, inv_accum_grad, coef_grads)]\n",
    "\n",
    "            if self.verbose:\n",
    "                loss = accumulated_loss / X.shape[0]\n",
    "                y_pred = self.predict(X_train)\n",
    "                accuracy = (y_pred == y_train).mean()\n",
    "                print(\"Epoch {}/{};\\t Train accuracy: {:.3f} \\t Loss : {:.3f}\".format(j + 1, self.max_iter, accuracy, loss))\n",
    "\n",
    "        return self\n",
    "\n",
    "    def predict(self, X):\n",
    "        activations = self.__forward_propagate(X)\n",
    "        y_pred = activations[-1]\n",
    "        return self._label_binarizer.inverse_transform(y_pred)"
   ]
  },
  {
   "cell_type": "markdown",
   "metadata": {},
   "source": [
    "## Read datasets"
   ]
  },
  {
   "cell_type": "code",
   "execution_count": 5,
   "metadata": {},
   "outputs": [
    {
     "name": "stdout",
     "output_type": "stream",
     "text": [
      "train size:  (60000, 784) (60000,)\n",
      "test size:  (10000, 784) (10000,)\n"
     ]
    }
   ],
   "source": [
    "from sklearn.datasets import fetch_mldata\n",
    "\n",
    "data_train = pd.read_csv(\"../dataset/mldata/mnist_train.csv\", header=None)\n",
    "data_test = pd.read_csv(\"../dataset/mldata/mnist_test.csv\", header=None)\n",
    "\n",
    "x_train = np.ascontiguousarray(data_train[data_train.columns[:-1]].values, dtype=np.float32)\n",
    "y_train = np.ascontiguousarray(data_train[data_train.columns[-1]].values, dtype=np.float32)\n",
    "x_test = np.ascontiguousarray(data_test[data_test.columns[:-1]].values, dtype=np.float32)\n",
    "y_test = np.ascontiguousarray(data_test[data_test.columns[-1]].values, dtype=np.float32)\n",
    "\n",
    "print('train size: ', x_train.shape, y_train.shape)\n",
    "print('test size: ', x_test.shape, y_test.shape)"
   ]
  },
  {
   "cell_type": "markdown",
   "metadata": {},
   "source": [
    "## Normalize datasets"
   ]
  },
  {
   "cell_type": "markdown",
   "metadata": {},
   "source": [
    "Чтобы веса не улетали в большие значения, нормируем датасет:"
   ]
  },
  {
   "cell_type": "code",
   "execution_count": 6,
   "metadata": {},
   "outputs": [],
   "source": [
    "x_train /= 255\n",
    "x_test /= 255"
   ]
  },
  {
   "cell_type": "markdown",
   "metadata": {},
   "source": [
    "## Check of Neural Network"
   ]
  },
  {
   "cell_type": "markdown",
   "metadata": {},
   "source": [
    "Проверим работу сети:"
   ]
  },
  {
   "cell_type": "code",
   "execution_count": 15,
   "metadata": {},
   "outputs": [
    {
     "name": "stdout",
     "output_type": "stream",
     "text": [
      "Epoch 1/10;\t Train accuracy: 0.918 \t Loss : 0.626\n",
      "Epoch 2/10;\t Train accuracy: 0.925 \t Loss : 0.293\n",
      "Epoch 3/10;\t Train accuracy: 0.927 \t Loss : 0.278\n",
      "Epoch 4/10;\t Train accuracy: 0.927 \t Loss : 0.272\n",
      "Epoch 5/10;\t Train accuracy: 0.930 \t Loss : 0.267\n",
      "Epoch 6/10;\t Train accuracy: 0.931 \t Loss : 0.263\n",
      "Epoch 7/10;\t Train accuracy: 0.930 \t Loss : 0.260\n",
      "Epoch 8/10;\t Train accuracy: 0.931 \t Loss : 0.257\n",
      "Epoch 9/10;\t Train accuracy: 0.931 \t Loss : 0.256\n",
      "Epoch 10/10;\t Train accuracy: 0.932 \t Loss : 0.254\n",
      "\n",
      "Accuracy на тестовой выборке:  0.9253\n",
      "Wall time: 29 s\n"
     ]
    }
   ],
   "source": [
    "%%time\n",
    "clf = DNNClassifier(hidden_layer_sizes=(100,), max_iter=10, solver='adagrad',\n",
    "     batch_size=256, learning_rate=0.05, random_state=777, shuffle=True, verbose=True)\n",
    "clf.fit(x_train, y_train)\n",
    "y_pred = clf.predict(x_test)\n",
    "print()\n",
    "print('Accuracy на тестовой выборке: ', (y_pred == y_test).mean())"
   ]
  },
  {
   "cell_type": "markdown",
   "metadata": {},
   "source": [
    "Ну видно, что сеть работает и при том, хорошо - **Loss уменьшается**, **accuracy** на тренировочной выборке **растет**. Да и **работает** довольно **быстро**. Я доволен :) Осталось подтюнить гиперпараметры."
   ]
  },
  {
   "cell_type": "markdown",
   "metadata": {},
   "source": [
    "## Grid search parameters for Neural Network"
   ]
  },
  {
   "cell_type": "markdown",
   "metadata": {},
   "source": [
    "Теперь, нашей сетью, попробуем подобрать оптимальные гиперпараметры по размеру скрытого слоя."
   ]
  },
  {
   "cell_type": "code",
   "execution_count": 7,
   "metadata": {},
   "outputs": [],
   "source": [
    "from sklearn.model_selection import GridSearchCV"
   ]
  },
  {
   "cell_type": "code",
   "execution_count": 23,
   "metadata": {},
   "outputs": [
    {
     "name": "stdout",
     "output_type": "stream",
     "text": [
      "Лучший подбор параметра для DNNClassifier: {'hidden_layer_sizes': (16,)}\n",
      "Лучший scope для DNNClassifier: 0.92155\n"
     ]
    }
   ],
   "source": [
    "parameters = {\n",
    "    'hidden_layer_sizes': [(16,), (32,), (48,), (64,), (76,), (92,)],\n",
    "}\n",
    "\n",
    "estimator = DNNClassifier(solver='adagrad',\n",
    "     batch_size=256, learning_rate=0.05, max_iter=50,\n",
    "     random_state=777, verbose=False)\n",
    "\n",
    "grid_clf = GridSearchCV(estimator, parameters, cv=5, scoring='accuracy')\n",
    "grid_clf.fit(x_train, y_train)\n",
    "print(\"Лучший подбор параметра для DNNClassifier: {}\".format(grid_clf.best_params_))\n",
    "print(\"Лучший scope для DNNClassifier: {}\".format(grid_clf.best_score_))"
   ]
  },
  {
   "cell_type": "code",
   "execution_count": 20,
   "metadata": {},
   "outputs": [
    {
     "data": {
      "image/png": "[encoded data removed]",
      "text/plain": [
       "<Figure size 432x288 with 1 Axes>"
      ]
     },
     "metadata": {},
     "output_type": "display_data"
    }
   ],
   "source": [
    "pd.DataFrame(grid_clf.cv_results_).plot(x='param_hidden_layer_sizes', y=[ 'mean_test_score', 'mean_train_score'])\n",
    "pass"
   ]
  },
  {
   "cell_type": "markdown",
   "metadata": {},
   "source": [
    "Видно, что при большом числе нейронов в скрытом слое мы наблюдаем **переобучение**. Возьмем количетсво нейронов, в самом оптимальном варианте (16)."
   ]
  },
  {
   "cell_type": "code",
   "execution_count": 21,
   "metadata": {},
   "outputs": [
    {
     "data": {
      "text/plain": [
       "DNNClassifier(batch_size=256, eps=1e-08, hidden_layer_sizes=(16,),\n",
       "       learning_rate=0.05, max_iter=30, momentum=0.9, random_state=777,\n",
       "       shuffle=True, solver=None, verbose=True)"
      ]
     },
     "execution_count": 21,
     "metadata": {},
     "output_type": "execute_result"
    }
   ],
   "source": [
    "best_estimator = grid_clf.best_estimator_\n",
    "up_params = {'verbose': True, 'max_iter': 30}\n",
    "best_estimator.set_params(**up_params)\n",
    "best_estimator"
   ]
  },
  {
   "cell_type": "code",
   "execution_count": 22,
   "metadata": {},
   "outputs": [
    {
     "name": "stdout",
     "output_type": "stream",
     "text": [
      "Epoch 1/30;\t Train accuracy: 0.914 \t Loss : 0.448\n",
      "Epoch 2/30;\t Train accuracy: 0.921 \t Loss : 0.299\n",
      "Epoch 3/30;\t Train accuracy: 0.923 \t Loss : 0.283\n",
      "Epoch 4/30;\t Train accuracy: 0.926 \t Loss : 0.275\n",
      "Epoch 5/30;\t Train accuracy: 0.928 \t Loss : 0.270\n",
      "Epoch 6/30;\t Train accuracy: 0.929 \t Loss : 0.266\n",
      "Epoch 7/30;\t Train accuracy: 0.929 \t Loss : 0.263\n",
      "Epoch 8/30;\t Train accuracy: 0.930 \t Loss : 0.261\n",
      "Epoch 9/30;\t Train accuracy: 0.931 \t Loss : 0.259\n",
      "Epoch 10/30;\t Train accuracy: 0.929 \t Loss : 0.257\n",
      "Epoch 11/30;\t Train accuracy: 0.932 \t Loss : 0.256\n",
      "Epoch 12/30;\t Train accuracy: 0.932 \t Loss : 0.254\n",
      "Epoch 13/30;\t Train accuracy: 0.932 \t Loss : 0.253\n",
      "Epoch 14/30;\t Train accuracy: 0.933 \t Loss : 0.252\n",
      "Epoch 15/30;\t Train accuracy: 0.933 \t Loss : 0.251\n",
      "Epoch 16/30;\t Train accuracy: 0.933 \t Loss : 0.250\n",
      "Epoch 17/30;\t Train accuracy: 0.933 \t Loss : 0.249\n",
      "Epoch 18/30;\t Train accuracy: 0.934 \t Loss : 0.249\n",
      "Epoch 19/30;\t Train accuracy: 0.933 \t Loss : 0.248\n",
      "Epoch 20/30;\t Train accuracy: 0.934 \t Loss : 0.247\n",
      "Epoch 21/30;\t Train accuracy: 0.934 \t Loss : 0.247\n",
      "Epoch 22/30;\t Train accuracy: 0.934 \t Loss : 0.246\n",
      "Epoch 23/30;\t Train accuracy: 0.934 \t Loss : 0.246\n",
      "Epoch 24/30;\t Train accuracy: 0.934 \t Loss : 0.245\n",
      "Epoch 25/30;\t Train accuracy: 0.934 \t Loss : 0.245\n",
      "Epoch 26/30;\t Train accuracy: 0.934 \t Loss : 0.244\n",
      "Epoch 27/30;\t Train accuracy: 0.935 \t Loss : 0.244\n",
      "Epoch 28/30;\t Train accuracy: 0.934 \t Loss : 0.243\n",
      "Epoch 29/30;\t Train accuracy: 0.935 \t Loss : 0.243\n",
      "Epoch 30/30;\t Train accuracy: 0.935 \t Loss : 0.243\n",
      "Wall time: 49.1 s\n"
     ]
    },
    {
     "data": {
      "text/plain": [
       "DNNClassifier(batch_size=256, eps=1e-08, hidden_layer_sizes=(16,),\n",
       "       learning_rate=0.05, max_iter=30, momentum=0.9, random_state=777,\n",
       "       shuffle=True, solver=None, verbose=True)"
      ]
     },
     "execution_count": 22,
     "metadata": {},
     "output_type": "execute_result"
    }
   ],
   "source": [
    "%%time\n",
    "best_estimator.fit(x_train, y_train)"
   ]
  },
  {
   "cell_type": "markdown",
   "metadata": {},
   "source": [
    "## Accuracy for testing datasets"
   ]
  },
  {
   "cell_type": "markdown",
   "metadata": {},
   "source": [
    "Ну и финальное аккураси:"
   ]
  },
  {
   "cell_type": "code",
   "execution_count": 24,
   "metadata": {},
   "outputs": [
    {
     "name": "stdout",
     "output_type": "stream",
     "text": [
      "Accuracy на тестовой выборке:  0.926\n"
     ]
    }
   ],
   "source": [
    "y_pred = best_estimator.predict(x_test)\n",
    "print('Accuracy на тестовой выборке: ', (y_pred == y_test).mean())"
   ]
  },
  {
   "cell_type": "markdown",
   "metadata": {},
   "source": [
    "## Versus the sklearn MLP"
   ]
  },
  {
   "cell_type": "markdown",
   "metadata": {},
   "source": [
    "Сравним нашу сеть, с какой нибудь библиотекой. Для простоты пускай это будет *sklearn*. И подбрем аналогично нашей сети параметры:"
   ]
  },
  {
   "cell_type": "code",
   "execution_count": 25,
   "metadata": {},
   "outputs": [
    {
     "name": "stdout",
     "output_type": "stream",
     "text": [
      "Iteration 1, loss = 0.73436694\n",
      "Iteration 2, loss = 0.35062043\n",
      "Iteration 3, loss = 0.30739383\n",
      "Iteration 4, loss = 0.28902413\n",
      "Iteration 5, loss = 0.27904313\n",
      "Iteration 6, loss = 0.27252593\n",
      "Iteration 7, loss = 0.26722828\n",
      "Iteration 8, loss = 0.26373192\n",
      "Iteration 9, loss = 0.26013310\n",
      "Iteration 10, loss = 0.25787084\n",
      "Iteration 11, loss = 0.25518767\n",
      "Iteration 12, loss = 0.25345777\n",
      "Iteration 13, loss = 0.25129781\n",
      "Iteration 14, loss = 0.25017786\n",
      "Iteration 15, loss = 0.24874089\n",
      "Iteration 16, loss = 0.24708613\n",
      "Iteration 17, loss = 0.24613000\n",
      "Iteration 18, loss = 0.24500568\n",
      "Iteration 19, loss = 0.24473631\n",
      "Iteration 20, loss = 0.24350242\n",
      "Iteration 21, loss = 0.24221757\n",
      "Iteration 22, loss = 0.24145957\n",
      "Iteration 23, loss = 0.24186943\n",
      "Iteration 24, loss = 0.24089721\n",
      "Iteration 25, loss = 0.23973297\n",
      "Iteration 26, loss = 0.23929363\n",
      "Iteration 27, loss = 0.23851964\n",
      "Iteration 28, loss = 0.23824422\n",
      "Iteration 29, loss = 0.23767271\n",
      "Iteration 30, loss = 0.23757961\n"
     ]
    },
    {
     "data": {
      "text/plain": [
       "MLPClassifier(activation='identity', alpha=0, batch_size=256, beta_1=0.9,\n",
       "       beta_2=0.999, early_stopping=False, epsilon=1e-08,\n",
       "       hidden_layer_sizes=(16,), learning_rate='constant',\n",
       "       learning_rate_init=0.001, max_iter=30, momentum=0.9,\n",
       "       n_iter_no_change=10, nesterovs_momentum=True, power_t=0.5,\n",
       "       random_state=777, shuffle=True, solver='adam', tol=0,\n",
       "       validation_fraction=0.1, verbose=1, warm_start=False)"
      ]
     },
     "execution_count": 25,
     "metadata": {},
     "output_type": "execute_result"
    }
   ],
   "source": [
    "from sklearn.neural_network import MLPClassifier\n",
    "clf = MLPClassifier(hidden_layer_sizes=(16,), max_iter=30, alpha=0, activation='identity',\n",
    "                     batch_size=256, solver='adam', verbose=1, random_state=777,\n",
    "                     tol=0, shuffle=True)\n",
    "clf.fit(x_train, y_train)"
   ]
  },
  {
   "cell_type": "code",
   "execution_count": 26,
   "metadata": {},
   "outputs": [
    {
     "name": "stdout",
     "output_type": "stream",
     "text": [
      "Accuracy на тестовой выборке:  0.9267\n"
     ]
    }
   ],
   "source": [
    "y_pred = clf.predict(x_test)\n",
    "print('Accuracy на тестовой выборке: ', (y_pred == y_test).mean())"
   ]
  },
  {
   "cell_type": "markdown",
   "metadata": {},
   "source": [
    "Почти аналогичный результат, схожей с моей моделью. Лучше аккураси получается при **нелинейной** функции активации после скрытого слоя, например ReLU."
   ]
  },
  {
   "cell_type": "code",
   "execution_count": 27,
   "metadata": {},
   "outputs": [
    {
     "name": "stdout",
     "output_type": "stream",
     "text": [
      "Iteration 1, loss = 0.81596686\n",
      "Iteration 2, loss = 0.35609414\n",
      "Iteration 3, loss = 0.29645522\n",
      "Iteration 4, loss = 0.26542929\n",
      "Iteration 5, loss = 0.24571562\n",
      "Iteration 6, loss = 0.23178049\n",
      "Iteration 7, loss = 0.22053985\n",
      "Iteration 8, loss = 0.21187050\n",
      "Iteration 9, loss = 0.20409084\n",
      "Iteration 10, loss = 0.19801073\n",
      "Iteration 11, loss = 0.19210298\n",
      "Iteration 12, loss = 0.18623756\n",
      "Iteration 13, loss = 0.17910247\n",
      "Iteration 14, loss = 0.17381358\n",
      "Iteration 15, loss = 0.16914523\n",
      "Iteration 16, loss = 0.16547316\n",
      "Iteration 17, loss = 0.16175265\n",
      "Iteration 18, loss = 0.15866246\n",
      "Iteration 19, loss = 0.15524834\n",
      "Iteration 20, loss = 0.15315301\n",
      "Iteration 21, loss = 0.15055781\n",
      "Iteration 22, loss = 0.14809033\n",
      "Iteration 23, loss = 0.14636946\n",
      "Iteration 24, loss = 0.14425310\n",
      "Iteration 25, loss = 0.14191990\n",
      "Iteration 26, loss = 0.14030226\n",
      "Iteration 27, loss = 0.13819602\n",
      "Iteration 28, loss = 0.13657976\n",
      "Iteration 29, loss = 0.13528631\n",
      "Iteration 30, loss = 0.13427411\n",
      "Accuracy на тестовой выборке:  0.9502\n"
     ]
    }
   ],
   "source": [
    "clf = MLPClassifier(hidden_layer_sizes=(16,), max_iter=30, alpha=0, activation='relu',\n",
    "                     batch_size=256, solver='adam', verbose=10, random_state=777,\n",
    "                     tol=0, shuffle=True)\n",
    "clf.fit(x_train, y_train)\n",
    "y_pred = clf.predict(x_test)\n",
    "print('Accuracy на тестовой выборке: ', (y_pred == y_test).mean())"
   ]
  }
 ],
 "metadata": {
  "kernelspec": {
   "display_name": "Python 3",
   "language": "python",
   "name": "python3"
  },
  "language_info": {
   "codemirror_mode": {
    "name": "ipython",
    "version": 3
   },
   "file_extension": ".py",
   "mimetype": "text/x-python",
   "name": "python",
   "nbconvert_exporter": "python",
   "pygments_lexer": "ipython3",
   "version": "3.6.8"
  }
 },
 "nbformat": 4,
 "nbformat_minor": 2
}
